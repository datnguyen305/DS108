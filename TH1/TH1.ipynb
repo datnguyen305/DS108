{
 "cells": [
  {
   "cell_type": "markdown",
   "metadata": {},
   "source": [
    "## a) Code lại các ví dụ ở phần 3 "
   ]
  },
  {
   "cell_type": "code",
   "execution_count": 172,
   "metadata": {},
   "outputs": [],
   "source": [
    "import pandas as pd "
   ]
  },
  {
   "cell_type": "code",
   "execution_count": 173,
   "metadata": {},
   "outputs": [],
   "source": [
    "df = pd.read_csv('../dataset/covid_19_data.csv')"
   ]
  },
  {
   "cell_type": "code",
   "execution_count": 174,
   "metadata": {},
   "outputs": [
    {
     "data": {
      "text/html": [
       "<div>\n",
       "<style scoped>\n",
       "    .dataframe tbody tr th:only-of-type {\n",
       "        vertical-align: middle;\n",
       "    }\n",
       "\n",
       "    .dataframe tbody tr th {\n",
       "        vertical-align: top;\n",
       "    }\n",
       "\n",
       "    .dataframe thead th {\n",
       "        text-align: right;\n",
       "    }\n",
       "</style>\n",
       "<table border=\"1\" class=\"dataframe\">\n",
       "  <thead>\n",
       "    <tr style=\"text-align: right;\">\n",
       "      <th></th>\n",
       "      <th>SNo</th>\n",
       "      <th>ObservationDate</th>\n",
       "      <th>Province/State</th>\n",
       "      <th>Country/Region</th>\n",
       "      <th>Last Update</th>\n",
       "      <th>Confirmed</th>\n",
       "      <th>Deaths</th>\n",
       "      <th>Recovered</th>\n",
       "    </tr>\n",
       "  </thead>\n",
       "  <tbody>\n",
       "    <tr>\n",
       "      <th>0</th>\n",
       "      <td>1</td>\n",
       "      <td>01/22/2020</td>\n",
       "      <td>Anhui</td>\n",
       "      <td>Mainland China</td>\n",
       "      <td>1/22/2020 17:00</td>\n",
       "      <td>1.0</td>\n",
       "      <td>0.0</td>\n",
       "      <td>0.0</td>\n",
       "    </tr>\n",
       "    <tr>\n",
       "      <th>1</th>\n",
       "      <td>2</td>\n",
       "      <td>01/22/2020</td>\n",
       "      <td>Beijing</td>\n",
       "      <td>Mainland China</td>\n",
       "      <td>1/22/2020 17:00</td>\n",
       "      <td>14.0</td>\n",
       "      <td>0.0</td>\n",
       "      <td>0.0</td>\n",
       "    </tr>\n",
       "    <tr>\n",
       "      <th>2</th>\n",
       "      <td>3</td>\n",
       "      <td>01/22/2020</td>\n",
       "      <td>Chongqing</td>\n",
       "      <td>Mainland China</td>\n",
       "      <td>1/22/2020 17:00</td>\n",
       "      <td>6.0</td>\n",
       "      <td>0.0</td>\n",
       "      <td>0.0</td>\n",
       "    </tr>\n",
       "    <tr>\n",
       "      <th>3</th>\n",
       "      <td>4</td>\n",
       "      <td>01/22/2020</td>\n",
       "      <td>Fujian</td>\n",
       "      <td>Mainland China</td>\n",
       "      <td>1/22/2020 17:00</td>\n",
       "      <td>1.0</td>\n",
       "      <td>0.0</td>\n",
       "      <td>0.0</td>\n",
       "    </tr>\n",
       "    <tr>\n",
       "      <th>4</th>\n",
       "      <td>5</td>\n",
       "      <td>01/22/2020</td>\n",
       "      <td>Gansu</td>\n",
       "      <td>Mainland China</td>\n",
       "      <td>1/22/2020 17:00</td>\n",
       "      <td>0.0</td>\n",
       "      <td>0.0</td>\n",
       "      <td>0.0</td>\n",
       "    </tr>\n",
       "    <tr>\n",
       "      <th>5</th>\n",
       "      <td>6</td>\n",
       "      <td>01/22/2020</td>\n",
       "      <td>Guangdong</td>\n",
       "      <td>Mainland China</td>\n",
       "      <td>1/22/2020 17:00</td>\n",
       "      <td>26.0</td>\n",
       "      <td>0.0</td>\n",
       "      <td>0.0</td>\n",
       "    </tr>\n",
       "    <tr>\n",
       "      <th>6</th>\n",
       "      <td>7</td>\n",
       "      <td>01/22/2020</td>\n",
       "      <td>Guangxi</td>\n",
       "      <td>Mainland China</td>\n",
       "      <td>1/22/2020 17:00</td>\n",
       "      <td>2.0</td>\n",
       "      <td>0.0</td>\n",
       "      <td>0.0</td>\n",
       "    </tr>\n",
       "    <tr>\n",
       "      <th>7</th>\n",
       "      <td>8</td>\n",
       "      <td>01/22/2020</td>\n",
       "      <td>Guizhou</td>\n",
       "      <td>Mainland China</td>\n",
       "      <td>1/22/2020 17:00</td>\n",
       "      <td>1.0</td>\n",
       "      <td>0.0</td>\n",
       "      <td>0.0</td>\n",
       "    </tr>\n",
       "    <tr>\n",
       "      <th>8</th>\n",
       "      <td>9</td>\n",
       "      <td>01/22/2020</td>\n",
       "      <td>Hainan</td>\n",
       "      <td>Mainland China</td>\n",
       "      <td>1/22/2020 17:00</td>\n",
       "      <td>4.0</td>\n",
       "      <td>0.0</td>\n",
       "      <td>0.0</td>\n",
       "    </tr>\n",
       "    <tr>\n",
       "      <th>9</th>\n",
       "      <td>10</td>\n",
       "      <td>01/22/2020</td>\n",
       "      <td>Hebei</td>\n",
       "      <td>Mainland China</td>\n",
       "      <td>1/22/2020 17:00</td>\n",
       "      <td>1.0</td>\n",
       "      <td>0.0</td>\n",
       "      <td>0.0</td>\n",
       "    </tr>\n",
       "  </tbody>\n",
       "</table>\n",
       "</div>"
      ],
      "text/plain": [
       "   SNo ObservationDate Province/State  Country/Region      Last Update  \\\n",
       "0    1      01/22/2020          Anhui  Mainland China  1/22/2020 17:00   \n",
       "1    2      01/22/2020        Beijing  Mainland China  1/22/2020 17:00   \n",
       "2    3      01/22/2020      Chongqing  Mainland China  1/22/2020 17:00   \n",
       "3    4      01/22/2020         Fujian  Mainland China  1/22/2020 17:00   \n",
       "4    5      01/22/2020          Gansu  Mainland China  1/22/2020 17:00   \n",
       "5    6      01/22/2020      Guangdong  Mainland China  1/22/2020 17:00   \n",
       "6    7      01/22/2020        Guangxi  Mainland China  1/22/2020 17:00   \n",
       "7    8      01/22/2020        Guizhou  Mainland China  1/22/2020 17:00   \n",
       "8    9      01/22/2020         Hainan  Mainland China  1/22/2020 17:00   \n",
       "9   10      01/22/2020          Hebei  Mainland China  1/22/2020 17:00   \n",
       "\n",
       "   Confirmed  Deaths  Recovered  \n",
       "0        1.0     0.0        0.0  \n",
       "1       14.0     0.0        0.0  \n",
       "2        6.0     0.0        0.0  \n",
       "3        1.0     0.0        0.0  \n",
       "4        0.0     0.0        0.0  \n",
       "5       26.0     0.0        0.0  \n",
       "6        2.0     0.0        0.0  \n",
       "7        1.0     0.0        0.0  \n",
       "8        4.0     0.0        0.0  \n",
       "9        1.0     0.0        0.0  "
      ]
     },
     "execution_count": 174,
     "metadata": {},
     "output_type": "execute_result"
    }
   ],
   "source": [
    "df.head(10)"
   ]
  },
  {
   "cell_type": "code",
   "execution_count": 175,
   "metadata": {},
   "outputs": [
    {
     "data": {
      "text/plain": [
       "306429"
      ]
     },
     "execution_count": 175,
     "metadata": {},
     "output_type": "execute_result"
    }
   ],
   "source": [
    "#Liệt kê số dòng\n",
    "df.shape[0]"
   ]
  },
  {
   "cell_type": "code",
   "execution_count": 176,
   "metadata": {},
   "outputs": [
    {
     "data": {
      "text/plain": [
       "8"
      ]
     },
     "execution_count": 176,
     "metadata": {},
     "output_type": "execute_result"
    }
   ],
   "source": [
    "#Liệt kê số cột\n",
    "df.shape[1]"
   ]
  },
  {
   "cell_type": "code",
   "execution_count": 177,
   "metadata": {},
   "outputs": [
    {
     "data": {
      "text/plain": [
       "Index(['SNo', 'ObservationDate', 'Province/State', 'Country/Region',\n",
       "       'Last Update', 'Confirmed', 'Deaths', 'Recovered'],\n",
       "      dtype='object')"
      ]
     },
     "execution_count": 177,
     "metadata": {},
     "output_type": "execute_result"
    }
   ],
   "source": [
    "#Liệt kê các tên cột\n",
    "df.columns "
   ]
  },
  {
   "cell_type": "code",
   "execution_count": 178,
   "metadata": {},
   "outputs": [
    {
     "name": "stdout",
     "output_type": "stream",
     "text": [
      "0         Mainland China\n",
      "1         Mainland China\n",
      "2         Mainland China\n",
      "3         Mainland China\n",
      "4         Mainland China\n",
      "               ...      \n",
      "306424           Ukraine\n",
      "306425       Netherlands\n",
      "306426    Mainland China\n",
      "306427           Ukraine\n",
      "306428       Netherlands\n",
      "Name: Country/Region, Length: 306429, dtype: object\n"
     ]
    }
   ],
   "source": [
    "#Liệt kê dữ liệu có feature 'Coutry/Region'\n",
    "countryCorona = df['Country/Region']\n",
    "print(countryCorona)"
   ]
  },
  {
   "cell_type": "code",
   "execution_count": 179,
   "metadata": {},
   "outputs": [
    {
     "name": "stdout",
     "output_type": "stream",
     "text": [
      "5863138.0\n"
     ]
    }
   ],
   "source": [
    "\n",
    "maxConfirmedCases = df['Confirmed'].max()\n",
    "print(maxConfirmedCases)"
   ]
  },
  {
   "cell_type": "code",
   "execution_count": 180,
   "metadata": {},
   "outputs": [
    {
     "name": "stdout",
     "output_type": "stream",
     "text": [
      "0          True\n",
      "1          True\n",
      "2          True\n",
      "3          True\n",
      "4          True\n",
      "          ...  \n",
      "306424    False\n",
      "306425    False\n",
      "306426     True\n",
      "306427    False\n",
      "306428    False\n",
      "Name: Country/Region, Length: 306429, dtype: bool\n"
     ]
    }
   ],
   "source": [
    "coronaChina = df['Country/Region'] == 'Mainland China'\n",
    "print(coronaChina)"
   ]
  },
  {
   "cell_type": "code",
   "execution_count": 181,
   "metadata": {},
   "outputs": [
    {
     "data": {
      "text/plain": [
       "298068    France\n",
       "Name: Country/Region, dtype: object"
      ]
     },
     "execution_count": 181,
     "metadata": {},
     "output_type": "execute_result"
    }
   ],
   "source": [
    "country_max = df[df['Confirmed'] == maxConfirmedCases]['Country/Region']\n",
    "country_max"
   ]
  },
  {
   "cell_type": "code",
   "execution_count": 182,
   "metadata": {},
   "outputs": [
    {
     "data": {
      "text/plain": [
       "298068    NaN\n",
       "Name: Province/State, dtype: object"
      ]
     },
     "execution_count": 182,
     "metadata": {},
     "output_type": "execute_result"
    }
   ],
   "source": [
    "province_max = df[df['Confirmed']==maxConfirmedCases]['Province/State']\n",
    "province_max"
   ]
  },
  {
   "cell_type": "code",
   "execution_count": 183,
   "metadata": {},
   "outputs": [
    {
     "data": {
      "text/html": [
       "<div>\n",
       "<style scoped>\n",
       "    .dataframe tbody tr th:only-of-type {\n",
       "        vertical-align: middle;\n",
       "    }\n",
       "\n",
       "    .dataframe tbody tr th {\n",
       "        vertical-align: top;\n",
       "    }\n",
       "\n",
       "    .dataframe thead th {\n",
       "        text-align: right;\n",
       "    }\n",
       "</style>\n",
       "<table border=\"1\" class=\"dataframe\">\n",
       "  <thead>\n",
       "    <tr style=\"text-align: right;\">\n",
       "      <th></th>\n",
       "      <th>SNo</th>\n",
       "      <th>ObservationDate</th>\n",
       "      <th>Province/State</th>\n",
       "      <th>Country/Region</th>\n",
       "      <th>Last Update</th>\n",
       "      <th>Confirmed</th>\n",
       "      <th>Deaths</th>\n",
       "      <th>Recovered</th>\n",
       "    </tr>\n",
       "  </thead>\n",
       "  <tbody>\n",
       "    <tr>\n",
       "      <th>0</th>\n",
       "      <td>1</td>\n",
       "      <td>2020-01-22</td>\n",
       "      <td>Anhui</td>\n",
       "      <td>Mainland China</td>\n",
       "      <td>1/22/2020 17:00</td>\n",
       "      <td>1.0</td>\n",
       "      <td>0.0</td>\n",
       "      <td>0.0</td>\n",
       "    </tr>\n",
       "    <tr>\n",
       "      <th>1</th>\n",
       "      <td>2</td>\n",
       "      <td>2020-01-22</td>\n",
       "      <td>Beijing</td>\n",
       "      <td>Mainland China</td>\n",
       "      <td>1/22/2020 17:00</td>\n",
       "      <td>14.0</td>\n",
       "      <td>0.0</td>\n",
       "      <td>0.0</td>\n",
       "    </tr>\n",
       "    <tr>\n",
       "      <th>2</th>\n",
       "      <td>3</td>\n",
       "      <td>2020-01-22</td>\n",
       "      <td>Chongqing</td>\n",
       "      <td>Mainland China</td>\n",
       "      <td>1/22/2020 17:00</td>\n",
       "      <td>6.0</td>\n",
       "      <td>0.0</td>\n",
       "      <td>0.0</td>\n",
       "    </tr>\n",
       "    <tr>\n",
       "      <th>3</th>\n",
       "      <td>4</td>\n",
       "      <td>2020-01-22</td>\n",
       "      <td>Fujian</td>\n",
       "      <td>Mainland China</td>\n",
       "      <td>1/22/2020 17:00</td>\n",
       "      <td>1.0</td>\n",
       "      <td>0.0</td>\n",
       "      <td>0.0</td>\n",
       "    </tr>\n",
       "    <tr>\n",
       "      <th>4</th>\n",
       "      <td>5</td>\n",
       "      <td>2020-01-22</td>\n",
       "      <td>Gansu</td>\n",
       "      <td>Mainland China</td>\n",
       "      <td>1/22/2020 17:00</td>\n",
       "      <td>0.0</td>\n",
       "      <td>0.0</td>\n",
       "      <td>0.0</td>\n",
       "    </tr>\n",
       "    <tr>\n",
       "      <th>...</th>\n",
       "      <td>...</td>\n",
       "      <td>...</td>\n",
       "      <td>...</td>\n",
       "      <td>...</td>\n",
       "      <td>...</td>\n",
       "      <td>...</td>\n",
       "      <td>...</td>\n",
       "      <td>...</td>\n",
       "    </tr>\n",
       "    <tr>\n",
       "      <th>508</th>\n",
       "      <td>509</td>\n",
       "      <td>2020-01-31</td>\n",
       "      <td>NaN</td>\n",
       "      <td>Philippines</td>\n",
       "      <td>1/31/2020 23:59</td>\n",
       "      <td>1.0</td>\n",
       "      <td>0.0</td>\n",
       "      <td>0.0</td>\n",
       "    </tr>\n",
       "    <tr>\n",
       "      <th>509</th>\n",
       "      <td>510</td>\n",
       "      <td>2020-01-31</td>\n",
       "      <td>NaN</td>\n",
       "      <td>India</td>\n",
       "      <td>1/31/2020 23:59</td>\n",
       "      <td>1.0</td>\n",
       "      <td>0.0</td>\n",
       "      <td>0.0</td>\n",
       "    </tr>\n",
       "    <tr>\n",
       "      <th>510</th>\n",
       "      <td>511</td>\n",
       "      <td>2020-01-31</td>\n",
       "      <td>NaN</td>\n",
       "      <td>Sweden</td>\n",
       "      <td>1/31/2020 23:59</td>\n",
       "      <td>1.0</td>\n",
       "      <td>0.0</td>\n",
       "      <td>0.0</td>\n",
       "    </tr>\n",
       "    <tr>\n",
       "      <th>511</th>\n",
       "      <td>512</td>\n",
       "      <td>2020-01-31</td>\n",
       "      <td>Unknown</td>\n",
       "      <td>China</td>\n",
       "      <td>1/31/2020 23:59</td>\n",
       "      <td>0.0</td>\n",
       "      <td>0.0</td>\n",
       "      <td>0.0</td>\n",
       "    </tr>\n",
       "    <tr>\n",
       "      <th>512</th>\n",
       "      <td>513</td>\n",
       "      <td>2020-01-31</td>\n",
       "      <td>NaN</td>\n",
       "      <td>Kiribati</td>\n",
       "      <td>1/31/2020 23:59</td>\n",
       "      <td>0.0</td>\n",
       "      <td>0.0</td>\n",
       "      <td>0.0</td>\n",
       "    </tr>\n",
       "  </tbody>\n",
       "</table>\n",
       "<p>513 rows × 8 columns</p>\n",
       "</div>"
      ],
      "text/plain": [
       "     SNo ObservationDate Province/State  Country/Region      Last Update  \\\n",
       "0      1      2020-01-22          Anhui  Mainland China  1/22/2020 17:00   \n",
       "1      2      2020-01-22        Beijing  Mainland China  1/22/2020 17:00   \n",
       "2      3      2020-01-22      Chongqing  Mainland China  1/22/2020 17:00   \n",
       "3      4      2020-01-22         Fujian  Mainland China  1/22/2020 17:00   \n",
       "4      5      2020-01-22          Gansu  Mainland China  1/22/2020 17:00   \n",
       "..   ...             ...            ...             ...              ...   \n",
       "508  509      2020-01-31            NaN     Philippines  1/31/2020 23:59   \n",
       "509  510      2020-01-31            NaN           India  1/31/2020 23:59   \n",
       "510  511      2020-01-31            NaN          Sweden  1/31/2020 23:59   \n",
       "511  512      2020-01-31        Unknown           China  1/31/2020 23:59   \n",
       "512  513      2020-01-31            NaN        Kiribati  1/31/2020 23:59   \n",
       "\n",
       "     Confirmed  Deaths  Recovered  \n",
       "0          1.0     0.0        0.0  \n",
       "1         14.0     0.0        0.0  \n",
       "2          6.0     0.0        0.0  \n",
       "3          1.0     0.0        0.0  \n",
       "4          0.0     0.0        0.0  \n",
       "..         ...     ...        ...  \n",
       "508        1.0     0.0        0.0  \n",
       "509        1.0     0.0        0.0  \n",
       "510        1.0     0.0        0.0  \n",
       "511        0.0     0.0        0.0  \n",
       "512        0.0     0.0        0.0  \n",
       "\n",
       "[513 rows x 8 columns]"
      ]
     },
     "execution_count": 183,
     "metadata": {},
     "output_type": "execute_result"
    }
   ],
   "source": [
    "df['ObservationDate'] = pd.to_datetime(df['ObservationDate'], format='%m/%d/%Y')\n",
    "\n",
    "df_jan = df[(df['ObservationDate'] >= '2020-01-01') & (df['ObservationDate'] <= '2020-01-31')]\n",
    "df_jan"
   ]
  },
  {
   "cell_type": "markdown",
   "metadata": {},
   "source": [
    "## b) Tìm dữ liệu về số ca lây nhiễm tại Vietnam (Country.Region == 'Vietnam') và lưu vào biến coronaVietnam.\n"
   ]
  },
  {
   "cell_type": "code",
   "execution_count": 184,
   "metadata": {},
   "outputs": [
    {
     "name": "stdout",
     "output_type": "stream",
     "text": [
      "Index(['SNo', 'ObservationDate', 'Province/State', 'Country/Region',\n",
      "       'Last Update', 'Confirmed', 'Deaths', 'Recovered'],\n",
      "      dtype='object')\n"
     ]
    }
   ],
   "source": [
    "coronaVietnam = df[df['Country/Region'] == 'Vietnam'] # Lọc ra dữ liệu của Việt Nam\n",
    "print(coronaVietnam.columns)"
   ]
  },
  {
   "cell_type": "markdown",
   "metadata": {},
   "source": [
    "## c) Tìm dữ liệu về số ca lây nhiễm tại Việt Nam trong tháng 02 năm 2021."
   ]
  },
  {
   "cell_type": "code",
   "execution_count": 185,
   "metadata": {},
   "outputs": [
    {
     "data": {
      "text/html": [
       "<div>\n",
       "<style scoped>\n",
       "    .dataframe tbody tr th:only-of-type {\n",
       "        vertical-align: middle;\n",
       "    }\n",
       "\n",
       "    .dataframe tbody tr th {\n",
       "        vertical-align: top;\n",
       "    }\n",
       "\n",
       "    .dataframe thead th {\n",
       "        text-align: right;\n",
       "    }\n",
       "</style>\n",
       "<table border=\"1\" class=\"dataframe\">\n",
       "  <thead>\n",
       "    <tr style=\"text-align: right;\">\n",
       "      <th></th>\n",
       "      <th>SNo</th>\n",
       "      <th>ObservationDate</th>\n",
       "      <th>Province/State</th>\n",
       "      <th>Country/Region</th>\n",
       "      <th>Last Update</th>\n",
       "      <th>Confirmed</th>\n",
       "      <th>Deaths</th>\n",
       "      <th>Recovered</th>\n",
       "    </tr>\n",
       "  </thead>\n",
       "  <tbody>\n",
       "    <tr>\n",
       "      <th>217091</th>\n",
       "      <td>217092</td>\n",
       "      <td>2021-02-02</td>\n",
       "      <td>NaN</td>\n",
       "      <td>Vietnam</td>\n",
       "      <td>2021-04-02 15:13:53</td>\n",
       "      <td>1882.0</td>\n",
       "      <td>35.0</td>\n",
       "      <td>1460.0</td>\n",
       "    </tr>\n",
       "    <tr>\n",
       "      <th>217856</th>\n",
       "      <td>217857</td>\n",
       "      <td>2021-02-03</td>\n",
       "      <td>NaN</td>\n",
       "      <td>Vietnam</td>\n",
       "      <td>2021-04-02 15:13:53</td>\n",
       "      <td>1948.0</td>\n",
       "      <td>35.0</td>\n",
       "      <td>1461.0</td>\n",
       "    </tr>\n",
       "    <tr>\n",
       "      <th>218621</th>\n",
       "      <td>218622</td>\n",
       "      <td>2021-02-04</td>\n",
       "      <td>NaN</td>\n",
       "      <td>Vietnam</td>\n",
       "      <td>2021-04-02 15:13:53</td>\n",
       "      <td>1957.0</td>\n",
       "      <td>35.0</td>\n",
       "      <td>1465.0</td>\n",
       "    </tr>\n",
       "    <tr>\n",
       "      <th>219386</th>\n",
       "      <td>219387</td>\n",
       "      <td>2021-02-05</td>\n",
       "      <td>NaN</td>\n",
       "      <td>Vietnam</td>\n",
       "      <td>2021-04-02 15:13:53</td>\n",
       "      <td>1976.0</td>\n",
       "      <td>35.0</td>\n",
       "      <td>1465.0</td>\n",
       "    </tr>\n",
       "    <tr>\n",
       "      <th>220151</th>\n",
       "      <td>220152</td>\n",
       "      <td>2021-02-06</td>\n",
       "      <td>NaN</td>\n",
       "      <td>Vietnam</td>\n",
       "      <td>2021-04-02 15:13:53</td>\n",
       "      <td>1985.0</td>\n",
       "      <td>35.0</td>\n",
       "      <td>1468.0</td>\n",
       "    </tr>\n",
       "  </tbody>\n",
       "</table>\n",
       "</div>"
      ],
      "text/plain": [
       "           SNo ObservationDate Province/State Country/Region  \\\n",
       "217091  217092      2021-02-02            NaN        Vietnam   \n",
       "217856  217857      2021-02-03            NaN        Vietnam   \n",
       "218621  218622      2021-02-04            NaN        Vietnam   \n",
       "219386  219387      2021-02-05            NaN        Vietnam   \n",
       "220151  220152      2021-02-06            NaN        Vietnam   \n",
       "\n",
       "                Last Update  Confirmed  Deaths  Recovered  \n",
       "217091  2021-04-02 15:13:53     1882.0    35.0     1460.0  \n",
       "217856  2021-04-02 15:13:53     1948.0    35.0     1461.0  \n",
       "218621  2021-04-02 15:13:53     1957.0    35.0     1465.0  \n",
       "219386  2021-04-02 15:13:53     1976.0    35.0     1465.0  \n",
       "220151  2021-04-02 15:13:53     1985.0    35.0     1468.0  "
      ]
     },
     "execution_count": 185,
     "metadata": {},
     "output_type": "execute_result"
    }
   ],
   "source": [
    "coronaVietnam_mo2 = coronaVietnam[(coronaVietnam['ObservationDate'] > '2021-02-01') & (coronaVietnam['ObservationDate'] < '2021-02-28')] # Lọc theo tháng 2\n",
    "coronaVietnam_mo2.head(5)"
   ]
  },
  {
   "cell_type": "markdown",
   "metadata": {},
   "source": [
    "## d) In ra số dữ liệu về ca lây nhiễm nhiều nhất trong khoảng tháng 01 và 02 tại Việt Nam (Lấy năm 2021)"
   ]
  },
  {
   "cell_type": "code",
   "execution_count": 186,
   "metadata": {},
   "outputs": [
    {
     "name": "stdout",
     "output_type": "stream",
     "text": [
      "Số ca lây nhiễm nhiều nhất trong tháng 1: 1767.0\n",
      "Số ca lây nhiễm nhiều nhất trong tháng 2: 2432.0\n"
     ]
    }
   ],
   "source": [
    "coronaVietnam_mo1 = coronaVietnam[(coronaVietnam['ObservationDate'] > '2021-01-01') & (coronaVietnam['ObservationDate'] < '2021-01-31')] # Lọc theo tháng 1\n",
    "\n",
    "print(f\"Số ca lây nhiễm nhiều nhất trong tháng 1: {coronaVietnam_mo1['Confirmed'].max()}\") # Số ca lây nhiễm nhiều nhất trong tháng 1\n",
    "print(f\"Số ca lây nhiễm nhiều nhất trong tháng 2: {coronaVietnam_mo2['Confirmed'].max()}\") # Số ca lây nhiễm nhiều nhất trong tháng 2"
   ]
  },
  {
   "cell_type": "markdown",
   "metadata": {},
   "source": [
    "## e) Thực hiện tương tự câu d) cho Indonesia và Philipine.\n"
   ]
  },
  {
   "cell_type": "code",
   "execution_count": 187,
   "metadata": {},
   "outputs": [
    {
     "name": "stdout",
     "output_type": "stream",
     "text": [
      "Số ca lây nhiễm lớn nhất tháng 1: 1066313.0\n",
      "Số ca lây nhiễm lớn nhất tháng 2: 1329074.0\n"
     ]
    }
   ],
   "source": [
    "coronaIndonesia = df[df['Country/Region'] == 'Indonesia'].copy() # Lọc ra dữ liệu của Indonesia\n",
    "\n",
    "coronaIndonesia_mo2 = coronaIndonesia[(coronaIndonesia['ObservationDate'] > '2021-02-01') & (coronaIndonesia['ObservationDate'] < '2021-02-28')] # Lọc theo tháng 2\n",
    "\n",
    "coronaIndonesia_mo1 = coronaIndonesia[(coronaIndonesia['ObservationDate'] > '2021-01-01') & (coronaIndonesia['ObservationDate'] < '2021-01-31')] # Lọc theo tháng 1\n",
    "\n",
    "print(f\"Số ca lây nhiễm lớn nhất tháng 1: {coronaIndonesia_mo1['Confirmed'].max()}\") # Số ca lây nhiễm lớn nhất tháng 1\n",
    "print(f\"Số ca lây nhiễm lớn nhất tháng 2: {coronaIndonesia_mo2['Confirmed'].max()}\") # Số ca lây nhiễm lớn nhất tháng 2"
   ]
  },
  {
   "cell_type": "code",
   "execution_count": 188,
   "metadata": {},
   "outputs": [
    {
     "name": "stdout",
     "output_type": "stream",
     "text": [
      "Số ca lây nhiễm lớn nhất tháng 1: 523516.0\n",
      "Số ca lây nhiễm lớn nhất tháng 2: 574247.0\n"
     ]
    }
   ],
   "source": [
    "coronaPhilippines = df[df['Country/Region'] == 'Philippines'].copy() # Lọc ra dữ liệu của Philippines\n",
    "\n",
    "coronaPhilippines_mo2 = coronaPhilippines[(coronaPhilippines['ObservationDate'] > '2021-02-01') & (coronaPhilippines['ObservationDate'] < '2021-02-28')] # Lọc theo tháng 2\n",
    "\n",
    "coronaPhilippines_mo1 = coronaPhilippines[(coronaPhilippines['ObservationDate'] > '2021-01-01') & (coronaPhilippines['ObservationDate'] < '2021-01-31')] # Lọc theo tháng 1\n",
    "\n",
    "print(f\"Số ca lây nhiễm lớn nhất tháng 1: {coronaPhilippines_mo1['Confirmed'].max()}\") # Số ca lây nhiễm lớn nhất tháng 1\n",
    "print(f\"Số ca lây nhiễm lớn nhất tháng 2: {coronaPhilippines_mo2['Confirmed'].max()}\") # Số ca lây nhiễm lớn nhất tháng 2"
   ]
  },
  {
   "cell_type": "markdown",
   "metadata": {},
   "source": [
    "## e) In ra dữ liệu về ca nhiễm ghi nhân (Confirmed) của Trung Quốc trong khoảng thời gian từ 01/02/2021 cho đến 15/02/2021. In ra màn hình sử dụng lệnh print().\n"
   ]
  },
  {
   "cell_type": "code",
   "execution_count": 189,
   "metadata": {},
   "outputs": [
    {
     "data": {
      "text/html": [
       "<div>\n",
       "<style scoped>\n",
       "    .dataframe tbody tr th:only-of-type {\n",
       "        vertical-align: middle;\n",
       "    }\n",
       "\n",
       "    .dataframe tbody tr th {\n",
       "        vertical-align: top;\n",
       "    }\n",
       "\n",
       "    .dataframe thead th {\n",
       "        text-align: right;\n",
       "    }\n",
       "</style>\n",
       "<table border=\"1\" class=\"dataframe\">\n",
       "  <thead>\n",
       "    <tr style=\"text-align: right;\">\n",
       "      <th></th>\n",
       "      <th>Province/State</th>\n",
       "      <th>Country/Region</th>\n",
       "      <th>Confirmed</th>\n",
       "    </tr>\n",
       "  </thead>\n",
       "  <tbody>\n",
       "    <tr>\n",
       "      <th>193422</th>\n",
       "      <td>Anhui</td>\n",
       "      <td>Mainland China</td>\n",
       "      <td>993.0</td>\n",
       "    </tr>\n",
       "    <tr>\n",
       "      <th>193456</th>\n",
       "      <td>Beijing</td>\n",
       "      <td>Mainland China</td>\n",
       "      <td>990.0</td>\n",
       "    </tr>\n",
       "    <tr>\n",
       "      <th>193506</th>\n",
       "      <td>Chongqing</td>\n",
       "      <td>Mainland China</td>\n",
       "      <td>590.0</td>\n",
       "    </tr>\n",
       "    <tr>\n",
       "      <th>193548</th>\n",
       "      <td>Fujian</td>\n",
       "      <td>Mainland China</td>\n",
       "      <td>516.0</td>\n",
       "    </tr>\n",
       "    <tr>\n",
       "      <th>193553</th>\n",
       "      <td>Gansu</td>\n",
       "      <td>Mainland China</td>\n",
       "      <td>182.0</td>\n",
       "    </tr>\n",
       "    <tr>\n",
       "      <th>...</th>\n",
       "      <td>...</td>\n",
       "      <td>...</td>\n",
       "      <td>...</td>\n",
       "    </tr>\n",
       "    <tr>\n",
       "      <th>226780</th>\n",
       "      <td>Tibet</td>\n",
       "      <td>Mainland China</td>\n",
       "      <td>1.0</td>\n",
       "    </tr>\n",
       "    <tr>\n",
       "      <th>226808</th>\n",
       "      <td>Unknown</td>\n",
       "      <td>Mainland China</td>\n",
       "      <td>0.0</td>\n",
       "    </tr>\n",
       "    <tr>\n",
       "      <th>226852</th>\n",
       "      <td>Xinjiang</td>\n",
       "      <td>Mainland China</td>\n",
       "      <td>980.0</td>\n",
       "    </tr>\n",
       "    <tr>\n",
       "      <th>226860</th>\n",
       "      <td>Yunnan</td>\n",
       "      <td>Mainland China</td>\n",
       "      <td>231.0</td>\n",
       "    </tr>\n",
       "    <tr>\n",
       "      <th>226866</th>\n",
       "      <td>Zhejiang</td>\n",
       "      <td>Mainland China</td>\n",
       "      <td>1320.0</td>\n",
       "    </tr>\n",
       "  </tbody>\n",
       "</table>\n",
       "<p>1408 rows × 3 columns</p>\n",
       "</div>"
      ],
      "text/plain": [
       "       Province/State  Country/Region  Confirmed\n",
       "193422          Anhui  Mainland China      993.0\n",
       "193456        Beijing  Mainland China      990.0\n",
       "193506      Chongqing  Mainland China      590.0\n",
       "193548         Fujian  Mainland China      516.0\n",
       "193553          Gansu  Mainland China      182.0\n",
       "...               ...             ...        ...\n",
       "226780          Tibet  Mainland China        1.0\n",
       "226808        Unknown  Mainland China        0.0\n",
       "226852       Xinjiang  Mainland China      980.0\n",
       "226860         Yunnan  Mainland China      231.0\n",
       "226866       Zhejiang  Mainland China     1320.0\n",
       "\n",
       "[1408 rows x 3 columns]"
      ]
     },
     "execution_count": 189,
     "metadata": {},
     "output_type": "execute_result"
    }
   ],
   "source": [
    "china = ['China', 'Mainland China'] # Em thấy trong dữ liệu có 2 tên cho China nên em lấy cả 2 tên\n",
    "coronaChina_extracted = df[(df['Country/Region'].isin(china))].copy() # Lọc ra dữ liệu của China\n",
    "coronaChina = coronaChina_extracted[(coronaChina_extracted['ObservationDate'] > '2021-01-01') & (coronaChina_extracted['ObservationDate'] < '2021-02-15')] # Lọc theo tháng 2\n",
    "coronaChina[['Province/State','Country/Region','Confirmed']]"
   ]
  },
  {
   "cell_type": "markdown",
   "metadata": {},
   "source": [
    "## f) Thống kê số lượng record theo từng tỉnh của Trung Quốc trong tháng 02/2021. \n"
   ]
  },
  {
   "cell_type": "code",
   "execution_count": 190,
   "metadata": {},
   "outputs": [
    {
     "name": "stdout",
     "output_type": "stream",
     "text": [
      "Province/State\n",
      "Anhui             44\n",
      "Beijing           44\n",
      "Chongqing         44\n",
      "Fujian            44\n",
      "Gansu             44\n",
      "Guangdong         44\n",
      "Guangxi           44\n",
      "Guizhou           44\n",
      "Hainan            44\n",
      "Hebei             44\n",
      "Heilongjiang      44\n",
      "Henan             44\n",
      "Hubei             44\n",
      "Hunan             44\n",
      "Inner Mongolia    44\n",
      "Jiangsu           44\n",
      "Jiangxi           44\n",
      "Jilin             44\n",
      "Liaoning          44\n",
      "Ningxia           44\n",
      "Qinghai           44\n",
      "Shaanxi           44\n",
      "Shandong          44\n",
      "Shanghai          44\n",
      "Shanxi            44\n",
      "Sichuan           44\n",
      "Tianjin           44\n",
      "Tibet             44\n",
      "Unknown           44\n",
      "Xinjiang          44\n",
      "Yunnan            44\n",
      "Zhejiang          44\n",
      "dtype: int64\n"
     ]
    }
   ],
   "source": [
    "record_count = coronaChina.groupby('Province/State').size() # Đếm số lượng dòng của mỗi tỉnh\n",
    "print(record_count)"
   ]
  },
  {
   "cell_type": "markdown",
   "metadata": {},
   "source": [
    "## g) Đếm số lượng ca nhiễm mới theo từng tỉnh của Trung Quốc trong tháng 02/2021. \n"
   ]
  },
  {
   "cell_type": "code",
   "execution_count": 191,
   "metadata": {},
   "outputs": [
    {
     "name": "stdout",
     "output_type": "stream",
     "text": [
      "Tỉnh/thành phố: Anhui, số ca nhiễm mới trong tháng 2: 0.0\n",
      "Tỉnh/thành phố: Beijing, số ca nhiễm mới trong tháng 2: 10.0\n",
      "Tỉnh/thành phố: Chongqing, số ca nhiễm mới trong tháng 2: 0.0\n",
      "Tỉnh/thành phố: Fujian, số ca nhiễm mới trong tháng 2: 10.0\n",
      "Tỉnh/thành phố: Gansu, số ca nhiễm mới trong tháng 2: 0.0\n",
      "Tỉnh/thành phố: Guangdong, số ca nhiễm mới trong tháng 2: 85.0\n",
      "Tỉnh/thành phố: Guangxi, số ca nhiễm mới trong tháng 2: 0.0\n",
      "Tỉnh/thành phố: Guizhou, số ca nhiễm mới trong tháng 2: 0.0\n",
      "Tỉnh/thành phố: Hainan, số ca nhiễm mới trong tháng 2: 0.0\n",
      "Tỉnh/thành phố: Hebei, số ca nhiễm mới trong tháng 2: 4.0\n",
      "Tỉnh/thành phố: Heilongjiang, số ca nhiễm mới trong tháng 2: 19.0\n",
      "Tỉnh/thành phố: Henan, số ca nhiễm mới trong tháng 2: 1.0\n",
      "Tỉnh/thành phố: Hubei, số ca nhiễm mới trong tháng 2: 1.0\n",
      "Tỉnh/thành phố: Hunan, số ca nhiễm mới trong tháng 2: 4.0\n",
      "Tỉnh/thành phố: Inner Mongolia, số ca nhiễm mới trong tháng 2: 1.0\n",
      "Tỉnh/thành phố: Jiangsu, số ca nhiễm mới trong tháng 2: 7.0\n",
      "Tỉnh/thành phố: Jiangxi, số ca nhiễm mới trong tháng 2: 0.0\n",
      "Tỉnh/thành phố: Jilin, số ca nhiễm mới trong tháng 2: 18.0\n",
      "Tỉnh/thành phố: Liaoning, số ca nhiễm mới trong tháng 2: 4.0\n",
      "Tỉnh/thành phố: Ningxia, số ca nhiễm mới trong tháng 2: 0.0\n",
      "Tỉnh/thành phố: Qinghai, số ca nhiễm mới trong tháng 2: 0.0\n",
      "Tỉnh/thành phố: Shaanxi, số ca nhiễm mới trong tháng 2: 11.0\n",
      "Tỉnh/thành phố: Shandong, số ca nhiễm mới trong tháng 2: 3.0\n",
      "Tỉnh/thành phố: Shanghai, số ca nhiễm mới trong tháng 2: 91.0\n",
      "Tỉnh/thành phố: Shanxi, số ca nhiễm mới trong tháng 2: 1.0\n",
      "Tỉnh/thành phố: Sichuan, số ca nhiễm mới trong tháng 2: 29.0\n",
      "Tỉnh/thành phố: Tianjin, số ca nhiễm mới trong tháng 2: 12.0\n",
      "Tỉnh/thành phố: Tibet, số ca nhiễm mới trong tháng 2: 0.0\n",
      "Tỉnh/thành phố: Unknown, số ca nhiễm mới trong tháng 2: 1.0\n",
      "Tỉnh/thành phố: Xinjiang, số ca nhiễm mới trong tháng 2: 0.0\n",
      "Tỉnh/thành phố: Yunnan, số ca nhiễm mới trong tháng 2: 2.0\n",
      "Tỉnh/thành phố: Zhejiang, số ca nhiễm mới trong tháng 2: 5.0\n"
     ]
    }
   ],
   "source": [
    "# Lọc dữ liệu trong khoảng tháng 2 năm 2021\n",
    "coronaChina_mo2 = coronaChina_extracted[(coronaChina_extracted[\"ObservationDate\"] >= \"2021-02-01\") & (coronaChina_extracted[\"ObservationDate\"] <= \"2021-02-28\")]\n",
    "\n",
    "# Duyệt qua từng tỉnh/thành phố\n",
    "for province in coronaChina_mo2[\"Province/State\"].unique():\n",
    "    # Lấy dữ liệu của tỉnh/thành phố hiện tại\n",
    "    province_data = coronaChina_mo2[coronaChina_mo2[\"Province/State\"] == province]\n",
    "    \n",
    "    # Tính số ca nhiễm mới trong tháng 2 \n",
    "    new_cases = province_data[\"Confirmed\"].max() - province_data[\"Confirmed\"].min()\n",
    "\n",
    "    print(f\"Tỉnh/thành phố: {province}, số ca nhiễm mới trong tháng 2: {new_cases}\")\n"
   ]
  },
  {
   "cell_type": "code",
   "execution_count": 192,
   "metadata": {},
   "outputs": [
    {
     "name": "stdout",
     "output_type": "stream",
     "text": [
      "Tỉnh/thành phố: Aichi, số ca nhiễm mới trong tháng 2: 1763.0\n",
      "Tỉnh/thành phố: Akita, số ca nhiễm mới trong tháng 2: 8.0\n",
      "Tỉnh/thành phố: Aomori, số ca nhiễm mới trong tháng 2: 99.0\n",
      "Tỉnh/thành phố: Chiba, số ca nhiễm mới trong tháng 2: 3889.0\n",
      "Tỉnh/thành phố: Ehime, số ca nhiễm mới trong tháng 2: 68.0\n",
      "Tỉnh/thành phố: Fukui, số ca nhiễm mới trong tháng 2: 28.0\n",
      "Tỉnh/thành phố: Fukuoka, số ca nhiễm mới trong tháng 2: 1825.0\n",
      "Tỉnh/thành phố: Fukushima, số ca nhiễm mới trong tháng 2: 226.0\n",
      "Tỉnh/thành phố: Gifu, số ca nhiễm mới trong tháng 2: 479.0\n",
      "Tỉnh/thành phố: Gunma, số ca nhiễm mới trong tháng 2: 611.0\n",
      "Tỉnh/thành phố: Hiroshima, số ca nhiễm mới trong tháng 2: 199.0\n",
      "Tỉnh/thành phố: Hokkaido, số ca nhiễm mới trong tháng 2: 1572.0\n",
      "Tỉnh/thành phố: Hyogo, số ca nhiễm mới trong tháng 2: 1449.0\n",
      "Tỉnh/thành phố: Ibaraki, số ca nhiễm mới trong tháng 2: 911.0\n",
      "Tỉnh/thành phố: Ishikawa, số ca nhiễm mới trong tháng 2: 386.0\n",
      "Tỉnh/thành phố: Iwate, số ca nhiễm mới trong tháng 2: 58.0\n",
      "Tỉnh/thành phố: Kagawa, số ca nhiễm mới trong tháng 2: 95.0\n",
      "Tỉnh/thành phố: Kagoshima, số ca nhiễm mới trong tháng 2: 129.0\n",
      "Tỉnh/thành phố: Kanagawa, số ca nhiễm mới trong tháng 2: 3918.0\n",
      "Tỉnh/thành phố: Kochi, số ca nhiễm mới trong tháng 2: 33.0\n",
      "Tỉnh/thành phố: Kumamoto, số ca nhiễm mới trong tháng 2: 101.0\n",
      "Tỉnh/thành phố: Kyoto, số ca nhiễm mới trong tháng 2: 554.0\n",
      "Tỉnh/thành phố: Mie, số ca nhiễm mới trong tháng 2: 325.0\n",
      "Tỉnh/thành phố: Miyagi, số ca nhiễm mới trong tháng 2: 207.0\n",
      "Tỉnh/thành phố: Miyazaki, số ca nhiễm mới trong tháng 2: 115.0\n",
      "Tỉnh/thành phố: Nagano, số ca nhiễm mới trong tháng 2: 74.0\n",
      "Tỉnh/thành phố: Nagasaki, số ca nhiễm mới trong tháng 2: 82.0\n",
      "Tỉnh/thành phố: Nara, số ca nhiễm mới trong tháng 2: 284.0\n",
      "Tỉnh/thành phố: Niigata, số ca nhiễm mới trong tháng 2: 169.0\n",
      "Tỉnh/thành phố: Oita, số ca nhiễm mới trong tháng 2: 127.0\n",
      "Tỉnh/thành phố: Okayama, số ca nhiễm mới trong tháng 2: 139.0\n",
      "Tỉnh/thành phố: Okinawa, số ca nhiễm mới trong tháng 2: 618.0\n",
      "Tỉnh/thành phố: Osaka, số ca nhiễm mới trong tháng 2: 3187.0\n",
      "Tỉnh/thành phố: Port Quarantine, số ca nhiễm mới trong tháng 2: 71.0\n",
      "Tỉnh/thành phố: Saga, số ca nhiễm mới trong tháng 2: 105.0\n",
      "Tỉnh/thành phố: Saitama, số ca nhiễm mới trong tháng 2: 4005.0\n",
      "Tỉnh/thành phố: Shiga, số ca nhiễm mới trong tháng 2: 335.0\n",
      "Tỉnh/thành phố: Shimane, số ca nhiễm mới trong tháng 2: 13.0\n",
      "Tỉnh/thành phố: Shizuoka, số ca nhiễm mới trong tháng 2: 533.0\n",
      "Tỉnh/thành phố: Tochigi, số ca nhiễm mới trong tháng 2: 326.0\n",
      "Tỉnh/thành phố: Tokushima, số ca nhiễm mới trong tháng 2: 65.0\n",
      "Tỉnh/thành phố: Tokyo, số ca nhiễm mới trong tháng 2: 10604.0\n",
      "Tỉnh/thành phố: Tottori, số ca nhiễm mới trong tháng 2: 8.0\n",
      "Tỉnh/thành phố: Toyama, số ca nhiễm mới trong tháng 2: 32.0\n",
      "Tỉnh/thành phố: Unknown, số ca nhiễm mới trong tháng 2: 0.0\n",
      "Tỉnh/thành phố: Wakayama, số ca nhiễm mới trong tháng 2: 98.0\n",
      "Tỉnh/thành phố: Yamagata, số ca nhiễm mới trong tháng 2: 33.0\n",
      "Tỉnh/thành phố: Yamaguchi, số ca nhiễm mới trong tháng 2: 142.0\n",
      "Tỉnh/thành phố: Yamanashi, số ca nhiễm mới trong tháng 2: 39.0\n"
     ]
    }
   ],
   "source": [
    "japan_extracted = df[df['Country/Region'] == 'Japan'].copy() # Lọc ra dữ liệu của Japan\n",
    "\n",
    "japan_mo2 = japan_extracted[(japan_extracted['ObservationDate'] >= '2021-02-01') & (japan_extracted['ObservationDate'] <= '2021-02-28')] # Lọc theo tháng 2\n",
    "\n",
    "for province in japan_mo2['Province/State'].unique():\n",
    "    province_data = japan_mo2[japan_mo2['Province/State'] == province]\n",
    "    new_cases = province_data['Confirmed'].max() - province_data['Confirmed'].min()\n",
    "    print(f\"Tỉnh/thành phố: {province}, số ca nhiễm mới trong tháng 2: {new_cases}\")\n"
   ]
  },
  {
   "cell_type": "markdown",
   "metadata": {},
   "source": [
    "## h) Tìm dữ liệu ca tử vong của Trung Quốc trong khoảng thời gian từ 01/02/2021 cho đến 15/02/2021. In ra màn hình sử dụng lệnh print().\n"
   ]
  },
  {
   "cell_type": "code",
   "execution_count": 193,
   "metadata": {},
   "outputs": [
    {
     "name": "stdout",
     "output_type": "stream",
     "text": [
      "        Country/Region  Deaths\n",
      "216353  Mainland China     6.0\n",
      "216387  Mainland China     9.0\n",
      "216437  Mainland China     6.0\n",
      "216479  Mainland China     1.0\n",
      "216484  Mainland China     2.0\n",
      "...                ...     ...\n",
      "227545  Mainland China     0.0\n",
      "227573  Mainland China     0.0\n",
      "227617  Mainland China     3.0\n",
      "227625  Mainland China     2.0\n",
      "227631  Mainland China     1.0\n",
      "\n",
      "[480 rows x 2 columns]\n"
     ]
    }
   ],
   "source": [
    "china_feb = coronaChina_extracted[(coronaChina_extracted['ObservationDate'] >= '2021-02-01') & (coronaChina_extracted['ObservationDate'] <= '2021-02-15')].copy() # Lọc dữ liệu của China từ đầu tháng 2 đến giữa tháng 2\n",
    "print(china_feb[['Country/Region','Deaths']]) # In ra số ca tử vong của mỗi tỉnh/thành phố"
   ]
  },
  {
   "cell_type": "markdown",
   "metadata": {},
   "source": [
    "## Có nhận xét gì về số ca nhiễm mới tại Việt Nam giữa tháng 05/2020 và tháng 05/2021. Vẽ biểu đồ đường thể hiện số ca nhiễm mới trong 2 tháng trên. Gợi ý: Dùng hàm plot() trong R."
   ]
  },
  {
   "cell_type": "code",
   "execution_count": 194,
   "metadata": {},
   "outputs": [
    {
     "data": {
      "image/png": "[encoded data removed]",
      "text/plain": [
       "<Figure size 1400x500 with 2 Axes>"
      ]
     },
     "metadata": {},
     "output_type": "display_data"
    }
   ],
   "source": [
    "import matplotlib.pyplot as plt\n",
    "coronaVietnam_mo5_2020 = coronaVietnam[(coronaVietnam['ObservationDate'] >= '2020-05-01') & (coronaVietnam['ObservationDate'] <= '2020-05-31')].copy()\n",
    "coronaVietnam_mo5_2021 = coronaVietnam[(coronaVietnam['ObservationDate'] >= '2021-05-01') & (coronaVietnam['ObservationDate'] <= '2021-05-31')].copy()\n",
    "\n",
    "coronaVietnam_mo5_2020['New Cases'] = coronaVietnam_mo5_2020['Confirmed'].diff().fillna(0)\n",
    "coronaVietnam_mo5_2021['New Cases'] = coronaVietnam_mo5_2021['Confirmed'].diff().fillna(0)\n",
    "\n",
    "\n",
    "fig, axes = plt.subplots(1, 2, figsize=(14, 5), sharey=True)\n",
    "\n",
    "# Biểu đồ tháng 5/2020\n",
    "axes[0].plot(coronaVietnam_mo5_2020['ObservationDate'], coronaVietnam_mo5_2020['New Cases'], \n",
    "             marker='o', linestyle='-', color='b')\n",
    "axes[0].set_title(\"Số ca nhiễm mới tháng 5/2020\", fontsize=14)\n",
    "axes[0].set_xlabel(\"Ngày\", fontsize=12)\n",
    "axes[0].set_ylabel(\"Số ca nhiễm mới\", fontsize=12)\n",
    "axes[0].tick_params(axis='x', rotation=45)\n",
    "axes[0].grid(True)\n",
    "\n",
    "# Biểu đồ tháng 5/2021\n",
    "axes[1].plot(coronaVietnam_mo5_2021['ObservationDate'], coronaVietnam_mo5_2021['New Cases'], \n",
    "             marker='s', linestyle='-', color='r')\n",
    "axes[1].set_title(\"Số ca nhiễm mới tháng 5/2021\", fontsize=14)\n",
    "axes[1].set_xlabel(\"Ngày\", fontsize=12)\n",
    "axes[1].tick_params(axis='x', rotation=45)\n",
    "axes[1].grid(True)\n",
    "\n",
    "\n",
    "# Tăng khoảng cách giữa 2 biểu đồ\n",
    "plt.tight_layout()\n",
    "\n",
    "# Hiển thị biểu đồ\n",
    "plt.show()\n"
   ]
  },
  {
   "cell_type": "markdown",
   "metadata": {},
   "source": [
    "Nhận xét 2 biểu đồ: \n",
    "thông qua 2 biểu đồ trên, ta có thể quan sát được trong năm 2020 Việt Nam kiểm soát tốt dịch Covid: Trong vòng 1 tháng tổng số ca nhiễm mới là dưới 100 ca và được giữ được phong độ này trong 1 tháng; ở biểu đồ năm 2021: số lượng người mắc Covid qua mỗi ngày có xu hướng tăng dần (từ loanh quanh 30-40 người mắc mới 1 ngày lên đến hơn 500 người mắc mới chỉ qua 1 ngày), cho thấy ở khoảng thời gian này Covid đã khó kiểm soát hơn.  "
   ]
  },
  {
   "cell_type": "markdown",
   "metadata": {},
   "source": [
    "\n",
    "## k) * Vẽ biểu đồ về số ca lây nhiễm nhiều nhất của 3 quốc gia: Vietnam, Indonesia và Philippine trong 2 tháng gồm 01 và tháng 02 năm 2021. \n"
   ]
  },
  {
   "cell_type": "code",
   "execution_count": 195,
   "metadata": {},
   "outputs": [
    {
     "data": {
      "image/png": "[encoded data removed]",
      "text/plain": [
       "<Figure size 1000x600 with 1 Axes>"
      ]
     },
     "metadata": {},
     "output_type": "display_data"
    }
   ],
   "source": [
    "import matplotlib.pyplot as plt\n",
    "\n",
    "# Lấy số ca lây nhiễm nhiều nhất trong tháng 01 và tháng 02 năm 2021\n",
    "vietnam_max = [coronaVietnam_mo1['Confirmed'].diff().fillna(0).max(), coronaVietnam_mo2['Confirmed'].diff().fillna(0).max()]\n",
    "indonesia_max = [coronaIndonesia_mo1['Confirmed'].diff().fillna(0).max(), coronaIndonesia_mo2['Confirmed'].diff().fillna(0).max()]\n",
    "philippines_max = [coronaPhilippines_mo1['Confirmed'].diff().fillna(0).max(), coronaPhilippines_mo2['Confirmed'].diff().fillna(0).max()]\n",
    "\n",
    "# Tạo danh sách các tháng\n",
    "months = ['January', 'February']\n",
    "\n",
    "# Vẽ biểu đồ\n",
    "plt.figure(figsize=(10, 6))\n",
    "plt.plot(months, vietnam_max, marker='o', label='Vietnam')\n",
    "plt.plot(months, indonesia_max, marker='o', label='Indonesia')\n",
    "plt.plot(months, philippines_max, marker='o', label='Philippines')\n",
    "\n",
    "# Thêm tiêu đề và nhãn\n",
    "plt.title('Số ca lây nhiễm nhiều nhất của 3 quốc gia trong tháng 01 và 02 năm 2021', fontsize=14)\n",
    "plt.xlabel('Tháng', fontsize=12)\n",
    "plt.ylabel('Số ca lây nhiễm', fontsize=12)\n",
    "plt.legend()\n",
    "plt.grid(True)\n",
    "\n",
    "# Hiển thị biểu đồ\n",
    "plt.show()"
   ]
  }
 ],
 "metadata": {
  "kernelspec": {
   "display_name": "Python 3 (ipykernel)",
   "language": "python",
   "name": "python3"
  },
  "language_info": {
   "codemirror_mode": {
    "name": "ipython",
    "version": 3
   },
   "file_extension": ".py",
   "mimetype": "text/x-python",
   "name": "python",
   "nbconvert_exporter": "python",
   "pygments_lexer": "ipython3",
   "version": "3.11.6"
  }
 },
 "nbformat": 4,
 "nbformat_minor": 4
}
